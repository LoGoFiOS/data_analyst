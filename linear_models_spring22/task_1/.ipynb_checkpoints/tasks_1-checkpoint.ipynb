{
 "cells": [
  {
   "cell_type": "code",
   "execution_count": 29,
   "id": "general-negative",
   "metadata": {},
   "outputs": [],
   "source": [
    "import pandas as pd\n",
    "import numpy as np\n",
    "import pickle"
   ]
  },
  {
   "cell_type": "markdown",
   "id": "appointed-saudi",
   "metadata": {},
   "source": [
    "#### В обучающей выборке train.csv:\n",
    "* Признаки site_i – это индексы посещенных сайтов (расшифровка дана в pickle-файле со словарем site_dic.pkl)\n",
    "* Признаки time_i – время посещения сайтов site_i\n",
    "\n",
    "В проверочной выборке есть целевой признак target – факт того, что сессия принадлежит Alice.\n",
    "\n",
    "\n",
    "#### Ответ для загрузки в систему\n",
    "Нужно вычислить для каждой метки «id» файла test.csv вероятность принадлежности сессии Alice. Тестовый сабмит - baseline_1.csv, получен запуском бейзлайна.\n",
    "\n",
    "\n",
    "Пример 5 строчек ответа:\n",
    "\n",
    "session_id,target\n",
    "\n",
    "1,0.948255\n",
    "\n",
    "2,0.682483\n",
    "\n",
    "3,0.502855\n",
    "\n",
    "4,0.345556\n"
   ]
  },
  {
   "cell_type": "markdown",
   "id": "bridal-executive",
   "metadata": {},
   "source": [
    "## Подготовка данных"
   ]
  },
  {
   "cell_type": "code",
   "execution_count": 12,
   "id": "industrial-tournament",
   "metadata": {},
   "outputs": [
    {
     "data": {
      "text/plain": [
       "['time1',\n",
       " 'time2',\n",
       " 'time3',\n",
       " 'time4',\n",
       " 'time5',\n",
       " 'time6',\n",
       " 'time7',\n",
       " 'time8',\n",
       " 'time9',\n",
       " 'time10']"
      ]
     },
     "execution_count": 12,
     "metadata": {},
     "output_type": "execute_result"
    }
   ],
   "source": [
    "times = ['time'+str(i) for i in range(1,11)]\n",
    "times"
   ]
  },
  {
   "cell_type": "code",
   "execution_count": 23,
   "id": "measured-playback",
   "metadata": {},
   "outputs": [],
   "source": [
    "train_df = pd.read_csv('../src/train.csv', index_col='session_id', parse_dates=times)\n",
    "test_df = pd.read_csv('../src/test.csv', index_col='session_id', parse_dates=times)"
   ]
  },
  {
   "cell_type": "code",
   "execution_count": 20,
   "id": "atmospheric-vision",
   "metadata": {
    "scrolled": false
   },
   "outputs": [
    {
     "data": {
      "text/html": [
       "<div>\n",
       "<style scoped>\n",
       "    .dataframe tbody tr th:only-of-type {\n",
       "        vertical-align: middle;\n",
       "    }\n",
       "\n",
       "    .dataframe tbody tr th {\n",
       "        vertical-align: top;\n",
       "    }\n",
       "\n",
       "    .dataframe thead th {\n",
       "        text-align: right;\n",
       "    }\n",
       "</style>\n",
       "<table border=\"1\" class=\"dataframe\">\n",
       "  <thead>\n",
       "    <tr style=\"text-align: right;\">\n",
       "      <th></th>\n",
       "      <th>site1</th>\n",
       "      <th>time1</th>\n",
       "      <th>site2</th>\n",
       "      <th>time2</th>\n",
       "      <th>site3</th>\n",
       "      <th>time3</th>\n",
       "      <th>site4</th>\n",
       "      <th>time4</th>\n",
       "      <th>site5</th>\n",
       "      <th>time5</th>\n",
       "      <th>...</th>\n",
       "      <th>time6</th>\n",
       "      <th>site7</th>\n",
       "      <th>time7</th>\n",
       "      <th>site8</th>\n",
       "      <th>time8</th>\n",
       "      <th>site9</th>\n",
       "      <th>time9</th>\n",
       "      <th>site10</th>\n",
       "      <th>time10</th>\n",
       "      <th>target</th>\n",
       "    </tr>\n",
       "    <tr>\n",
       "      <th>session_id</th>\n",
       "      <th></th>\n",
       "      <th></th>\n",
       "      <th></th>\n",
       "      <th></th>\n",
       "      <th></th>\n",
       "      <th></th>\n",
       "      <th></th>\n",
       "      <th></th>\n",
       "      <th></th>\n",
       "      <th></th>\n",
       "      <th></th>\n",
       "      <th></th>\n",
       "      <th></th>\n",
       "      <th></th>\n",
       "      <th></th>\n",
       "      <th></th>\n",
       "      <th></th>\n",
       "      <th></th>\n",
       "      <th></th>\n",
       "      <th></th>\n",
       "      <th></th>\n",
       "    </tr>\n",
       "  </thead>\n",
       "  <tbody>\n",
       "    <tr>\n",
       "      <th>1</th>\n",
       "      <td>718</td>\n",
       "      <td>2014-02-20 10:02:45</td>\n",
       "      <td>NaN</td>\n",
       "      <td>NaT</td>\n",
       "      <td>NaN</td>\n",
       "      <td>NaT</td>\n",
       "      <td>NaN</td>\n",
       "      <td>NaT</td>\n",
       "      <td>NaN</td>\n",
       "      <td>NaT</td>\n",
       "      <td>...</td>\n",
       "      <td>NaT</td>\n",
       "      <td>NaN</td>\n",
       "      <td>NaT</td>\n",
       "      <td>NaN</td>\n",
       "      <td>NaT</td>\n",
       "      <td>NaN</td>\n",
       "      <td>NaT</td>\n",
       "      <td>NaN</td>\n",
       "      <td>NaT</td>\n",
       "      <td>0</td>\n",
       "    </tr>\n",
       "    <tr>\n",
       "      <th>2</th>\n",
       "      <td>890</td>\n",
       "      <td>2014-02-22 11:19:50</td>\n",
       "      <td>941.0</td>\n",
       "      <td>2014-02-22 11:19:50</td>\n",
       "      <td>3847.0</td>\n",
       "      <td>2014-02-22 11:19:51</td>\n",
       "      <td>941.0</td>\n",
       "      <td>2014-02-22 11:19:51</td>\n",
       "      <td>942.0</td>\n",
       "      <td>2014-02-22 11:19:51</td>\n",
       "      <td>...</td>\n",
       "      <td>2014-02-22 11:19:51</td>\n",
       "      <td>3847.0</td>\n",
       "      <td>2014-02-22 11:19:52</td>\n",
       "      <td>3846.0</td>\n",
       "      <td>2014-02-22 11:19:52</td>\n",
       "      <td>1516.0</td>\n",
       "      <td>2014-02-22 11:20:15</td>\n",
       "      <td>1518.0</td>\n",
       "      <td>2014-02-22 11:20:16</td>\n",
       "      <td>0</td>\n",
       "    </tr>\n",
       "    <tr>\n",
       "      <th>3</th>\n",
       "      <td>14769</td>\n",
       "      <td>2013-12-16 16:40:17</td>\n",
       "      <td>39.0</td>\n",
       "      <td>2013-12-16 16:40:18</td>\n",
       "      <td>14768.0</td>\n",
       "      <td>2013-12-16 16:40:19</td>\n",
       "      <td>14769.0</td>\n",
       "      <td>2013-12-16 16:40:19</td>\n",
       "      <td>37.0</td>\n",
       "      <td>2013-12-16 16:40:19</td>\n",
       "      <td>...</td>\n",
       "      <td>2013-12-16 16:40:19</td>\n",
       "      <td>14768.0</td>\n",
       "      <td>2013-12-16 16:40:20</td>\n",
       "      <td>14768.0</td>\n",
       "      <td>2013-12-16 16:40:21</td>\n",
       "      <td>14768.0</td>\n",
       "      <td>2013-12-16 16:40:22</td>\n",
       "      <td>14768.0</td>\n",
       "      <td>2013-12-16 16:40:24</td>\n",
       "      <td>0</td>\n",
       "    </tr>\n",
       "    <tr>\n",
       "      <th>4</th>\n",
       "      <td>782</td>\n",
       "      <td>2014-03-28 10:52:12</td>\n",
       "      <td>782.0</td>\n",
       "      <td>2014-03-28 10:52:42</td>\n",
       "      <td>782.0</td>\n",
       "      <td>2014-03-28 10:53:12</td>\n",
       "      <td>782.0</td>\n",
       "      <td>2014-03-28 10:53:42</td>\n",
       "      <td>782.0</td>\n",
       "      <td>2014-03-28 10:54:12</td>\n",
       "      <td>...</td>\n",
       "      <td>2014-03-28 10:54:42</td>\n",
       "      <td>782.0</td>\n",
       "      <td>2014-03-28 10:55:12</td>\n",
       "      <td>782.0</td>\n",
       "      <td>2014-03-28 10:55:42</td>\n",
       "      <td>782.0</td>\n",
       "      <td>2014-03-28 10:56:12</td>\n",
       "      <td>782.0</td>\n",
       "      <td>2014-03-28 10:56:42</td>\n",
       "      <td>0</td>\n",
       "    </tr>\n",
       "    <tr>\n",
       "      <th>5</th>\n",
       "      <td>22</td>\n",
       "      <td>2014-02-28 10:53:05</td>\n",
       "      <td>177.0</td>\n",
       "      <td>2014-02-28 10:55:22</td>\n",
       "      <td>175.0</td>\n",
       "      <td>2014-02-28 10:55:22</td>\n",
       "      <td>178.0</td>\n",
       "      <td>2014-02-28 10:55:23</td>\n",
       "      <td>177.0</td>\n",
       "      <td>2014-02-28 10:55:23</td>\n",
       "      <td>...</td>\n",
       "      <td>2014-02-28 10:55:59</td>\n",
       "      <td>175.0</td>\n",
       "      <td>2014-02-28 10:55:59</td>\n",
       "      <td>177.0</td>\n",
       "      <td>2014-02-28 10:55:59</td>\n",
       "      <td>177.0</td>\n",
       "      <td>2014-02-28 10:57:06</td>\n",
       "      <td>178.0</td>\n",
       "      <td>2014-02-28 10:57:11</td>\n",
       "      <td>0</td>\n",
       "    </tr>\n",
       "  </tbody>\n",
       "</table>\n",
       "<p>5 rows × 21 columns</p>\n",
       "</div>"
      ],
      "text/plain": [
       "            site1               time1  site2               time2    site3  \\\n",
       "session_id                                                                  \n",
       "1             718 2014-02-20 10:02:45    NaN                 NaT      NaN   \n",
       "2             890 2014-02-22 11:19:50  941.0 2014-02-22 11:19:50   3847.0   \n",
       "3           14769 2013-12-16 16:40:17   39.0 2013-12-16 16:40:18  14768.0   \n",
       "4             782 2014-03-28 10:52:12  782.0 2014-03-28 10:52:42    782.0   \n",
       "5              22 2014-02-28 10:53:05  177.0 2014-02-28 10:55:22    175.0   \n",
       "\n",
       "                         time3    site4               time4  site5  \\\n",
       "session_id                                                           \n",
       "1                          NaT      NaN                 NaT    NaN   \n",
       "2          2014-02-22 11:19:51    941.0 2014-02-22 11:19:51  942.0   \n",
       "3          2013-12-16 16:40:19  14769.0 2013-12-16 16:40:19   37.0   \n",
       "4          2014-03-28 10:53:12    782.0 2014-03-28 10:53:42  782.0   \n",
       "5          2014-02-28 10:55:22    178.0 2014-02-28 10:55:23  177.0   \n",
       "\n",
       "                         time5  ...               time6    site7  \\\n",
       "session_id                      ...                                \n",
       "1                          NaT  ...                 NaT      NaN   \n",
       "2          2014-02-22 11:19:51  ... 2014-02-22 11:19:51   3847.0   \n",
       "3          2013-12-16 16:40:19  ... 2013-12-16 16:40:19  14768.0   \n",
       "4          2014-03-28 10:54:12  ... 2014-03-28 10:54:42    782.0   \n",
       "5          2014-02-28 10:55:23  ... 2014-02-28 10:55:59    175.0   \n",
       "\n",
       "                         time7    site8               time8    site9  \\\n",
       "session_id                                                             \n",
       "1                          NaT      NaN                 NaT      NaN   \n",
       "2          2014-02-22 11:19:52   3846.0 2014-02-22 11:19:52   1516.0   \n",
       "3          2013-12-16 16:40:20  14768.0 2013-12-16 16:40:21  14768.0   \n",
       "4          2014-03-28 10:55:12    782.0 2014-03-28 10:55:42    782.0   \n",
       "5          2014-02-28 10:55:59    177.0 2014-02-28 10:55:59    177.0   \n",
       "\n",
       "                         time9   site10              time10 target  \n",
       "session_id                                                          \n",
       "1                          NaT      NaN                 NaT      0  \n",
       "2          2014-02-22 11:20:15   1518.0 2014-02-22 11:20:16      0  \n",
       "3          2013-12-16 16:40:22  14768.0 2013-12-16 16:40:24      0  \n",
       "4          2014-03-28 10:56:12    782.0 2014-03-28 10:56:42      0  \n",
       "5          2014-02-28 10:57:06    178.0 2014-02-28 10:57:11      0  \n",
       "\n",
       "[5 rows x 21 columns]"
      ]
     },
     "execution_count": 20,
     "metadata": {},
     "output_type": "execute_result"
    }
   ],
   "source": [
    "train_df.head()"
   ]
  },
  {
   "cell_type": "code",
   "execution_count": 33,
   "id": "blocked-dinner",
   "metadata": {
    "scrolled": true
   },
   "outputs": [
    {
     "data": {
      "text/html": [
       "<div>\n",
       "<style scoped>\n",
       "    .dataframe tbody tr th:only-of-type {\n",
       "        vertical-align: middle;\n",
       "    }\n",
       "\n",
       "    .dataframe tbody tr th {\n",
       "        vertical-align: top;\n",
       "    }\n",
       "\n",
       "    .dataframe thead th {\n",
       "        text-align: right;\n",
       "    }\n",
       "</style>\n",
       "<table border=\"1\" class=\"dataframe\">\n",
       "  <thead>\n",
       "    <tr style=\"text-align: right;\">\n",
       "      <th></th>\n",
       "      <th>site1</th>\n",
       "      <th>time1</th>\n",
       "      <th>site2</th>\n",
       "      <th>time2</th>\n",
       "      <th>site3</th>\n",
       "      <th>time3</th>\n",
       "      <th>site4</th>\n",
       "      <th>time4</th>\n",
       "      <th>site5</th>\n",
       "      <th>time5</th>\n",
       "      <th>site6</th>\n",
       "      <th>time6</th>\n",
       "      <th>site7</th>\n",
       "      <th>time7</th>\n",
       "      <th>site8</th>\n",
       "      <th>time8</th>\n",
       "      <th>site9</th>\n",
       "      <th>time9</th>\n",
       "      <th>site10</th>\n",
       "      <th>time10</th>\n",
       "    </tr>\n",
       "    <tr>\n",
       "      <th>session_id</th>\n",
       "      <th></th>\n",
       "      <th></th>\n",
       "      <th></th>\n",
       "      <th></th>\n",
       "      <th></th>\n",
       "      <th></th>\n",
       "      <th></th>\n",
       "      <th></th>\n",
       "      <th></th>\n",
       "      <th></th>\n",
       "      <th></th>\n",
       "      <th></th>\n",
       "      <th></th>\n",
       "      <th></th>\n",
       "      <th></th>\n",
       "      <th></th>\n",
       "      <th></th>\n",
       "      <th></th>\n",
       "      <th></th>\n",
       "      <th></th>\n",
       "    </tr>\n",
       "  </thead>\n",
       "  <tbody>\n",
       "    <tr>\n",
       "      <th>1</th>\n",
       "      <td>29</td>\n",
       "      <td>2014-04-10 11:19:53</td>\n",
       "      <td>35</td>\n",
       "      <td>2014-04-10 11:19:53</td>\n",
       "      <td>22</td>\n",
       "      <td>2014-04-10 11:19:54</td>\n",
       "      <td>321</td>\n",
       "      <td>2014-04-10 11:19:54</td>\n",
       "      <td>23</td>\n",
       "      <td>2014-04-10 11:19:54</td>\n",
       "      <td>2211</td>\n",
       "      <td>2014-04-10 11:19:54</td>\n",
       "      <td>6730</td>\n",
       "      <td>2014-04-10 11:19:54</td>\n",
       "      <td>21</td>\n",
       "      <td>2014-04-10 11:19:54</td>\n",
       "      <td>44582</td>\n",
       "      <td>2014-04-10 11:20:00</td>\n",
       "      <td>15336</td>\n",
       "      <td>2014-04-10 11:20:00</td>\n",
       "    </tr>\n",
       "    <tr>\n",
       "      <th>2</th>\n",
       "      <td>782</td>\n",
       "      <td>2014-03-07 11:00:28</td>\n",
       "      <td>782</td>\n",
       "      <td>2014-03-07 11:00:53</td>\n",
       "      <td>782</td>\n",
       "      <td>2014-03-07 11:00:58</td>\n",
       "      <td>782</td>\n",
       "      <td>2014-03-07 11:01:06</td>\n",
       "      <td>782</td>\n",
       "      <td>2014-03-07 11:01:09</td>\n",
       "      <td>782</td>\n",
       "      <td>2014-03-07 11:01:10</td>\n",
       "      <td>782</td>\n",
       "      <td>2014-03-07 11:01:23</td>\n",
       "      <td>782</td>\n",
       "      <td>2014-03-07 11:01:29</td>\n",
       "      <td>782</td>\n",
       "      <td>2014-03-07 11:01:30</td>\n",
       "      <td>782</td>\n",
       "      <td>2014-03-07 11:01:53</td>\n",
       "    </tr>\n",
       "    <tr>\n",
       "      <th>3</th>\n",
       "      <td>55</td>\n",
       "      <td>2014-05-12 15:55:12</td>\n",
       "      <td>55</td>\n",
       "      <td>2014-05-12 15:55:13</td>\n",
       "      <td>55</td>\n",
       "      <td>2014-05-12 15:55:14</td>\n",
       "      <td>55</td>\n",
       "      <td>2014-05-12 15:56:15</td>\n",
       "      <td>55</td>\n",
       "      <td>2014-05-12 15:56:16</td>\n",
       "      <td>55</td>\n",
       "      <td>2014-05-12 15:56:17</td>\n",
       "      <td>55</td>\n",
       "      <td>2014-05-12 15:56:18</td>\n",
       "      <td>55</td>\n",
       "      <td>2014-05-12 15:56:19</td>\n",
       "      <td>1445</td>\n",
       "      <td>2014-05-12 15:56:33</td>\n",
       "      <td>1445</td>\n",
       "      <td>2014-05-12 15:56:36</td>\n",
       "    </tr>\n",
       "    <tr>\n",
       "      <th>4</th>\n",
       "      <td>1023</td>\n",
       "      <td>2014-04-11 10:03:19</td>\n",
       "      <td>1022</td>\n",
       "      <td>2014-04-11 10:03:19</td>\n",
       "      <td>50</td>\n",
       "      <td>2014-04-11 10:03:20</td>\n",
       "      <td>222</td>\n",
       "      <td>2014-04-11 10:03:21</td>\n",
       "      <td>202</td>\n",
       "      <td>2014-04-11 10:03:21</td>\n",
       "      <td>3374</td>\n",
       "      <td>2014-04-11 10:03:22</td>\n",
       "      <td>50</td>\n",
       "      <td>2014-04-11 10:03:22</td>\n",
       "      <td>48</td>\n",
       "      <td>2014-04-11 10:03:22</td>\n",
       "      <td>48</td>\n",
       "      <td>2014-04-11 10:03:23</td>\n",
       "      <td>3374</td>\n",
       "      <td>2014-04-11 10:03:23</td>\n",
       "    </tr>\n",
       "    <tr>\n",
       "      <th>5</th>\n",
       "      <td>301</td>\n",
       "      <td>2014-05-16 15:05:31</td>\n",
       "      <td>301</td>\n",
       "      <td>2014-05-16 15:05:32</td>\n",
       "      <td>301</td>\n",
       "      <td>2014-05-16 15:05:33</td>\n",
       "      <td>66</td>\n",
       "      <td>2014-05-16 15:05:39</td>\n",
       "      <td>67</td>\n",
       "      <td>2014-05-16 15:05:40</td>\n",
       "      <td>69</td>\n",
       "      <td>2014-05-16 15:05:40</td>\n",
       "      <td>70</td>\n",
       "      <td>2014-05-16 15:05:40</td>\n",
       "      <td>68</td>\n",
       "      <td>2014-05-16 15:05:40</td>\n",
       "      <td>71</td>\n",
       "      <td>2014-05-16 15:05:40</td>\n",
       "      <td>167</td>\n",
       "      <td>2014-05-16 15:05:44</td>\n",
       "    </tr>\n",
       "  </tbody>\n",
       "</table>\n",
       "</div>"
      ],
      "text/plain": [
       "            site1               time1  site2               time2  site3  \\\n",
       "session_id                                                                \n",
       "1              29 2014-04-10 11:19:53     35 2014-04-10 11:19:53     22   \n",
       "2             782 2014-03-07 11:00:28    782 2014-03-07 11:00:53    782   \n",
       "3              55 2014-05-12 15:55:12     55 2014-05-12 15:55:13     55   \n",
       "4            1023 2014-04-11 10:03:19   1022 2014-04-11 10:03:19     50   \n",
       "5             301 2014-05-16 15:05:31    301 2014-05-16 15:05:32    301   \n",
       "\n",
       "                         time3  site4               time4  site5  \\\n",
       "session_id                                                         \n",
       "1          2014-04-10 11:19:54    321 2014-04-10 11:19:54     23   \n",
       "2          2014-03-07 11:00:58    782 2014-03-07 11:01:06    782   \n",
       "3          2014-05-12 15:55:14     55 2014-05-12 15:56:15     55   \n",
       "4          2014-04-11 10:03:20    222 2014-04-11 10:03:21    202   \n",
       "5          2014-05-16 15:05:33     66 2014-05-16 15:05:39     67   \n",
       "\n",
       "                         time5  site6               time6  site7  \\\n",
       "session_id                                                         \n",
       "1          2014-04-10 11:19:54   2211 2014-04-10 11:19:54   6730   \n",
       "2          2014-03-07 11:01:09    782 2014-03-07 11:01:10    782   \n",
       "3          2014-05-12 15:56:16     55 2014-05-12 15:56:17     55   \n",
       "4          2014-04-11 10:03:21   3374 2014-04-11 10:03:22     50   \n",
       "5          2014-05-16 15:05:40     69 2014-05-16 15:05:40     70   \n",
       "\n",
       "                         time7  site8               time8  site9  \\\n",
       "session_id                                                         \n",
       "1          2014-04-10 11:19:54     21 2014-04-10 11:19:54  44582   \n",
       "2          2014-03-07 11:01:23    782 2014-03-07 11:01:29    782   \n",
       "3          2014-05-12 15:56:18     55 2014-05-12 15:56:19   1445   \n",
       "4          2014-04-11 10:03:22     48 2014-04-11 10:03:22     48   \n",
       "5          2014-05-16 15:05:40     68 2014-05-16 15:05:40     71   \n",
       "\n",
       "                         time9  site10              time10  \n",
       "session_id                                                  \n",
       "1          2014-04-10 11:20:00   15336 2014-04-10 11:20:00  \n",
       "2          2014-03-07 11:01:30     782 2014-03-07 11:01:53  \n",
       "3          2014-05-12 15:56:33    1445 2014-05-12 15:56:36  \n",
       "4          2014-04-11 10:03:23    3374 2014-04-11 10:03:23  \n",
       "5          2014-05-16 15:05:40     167 2014-05-16 15:05:44  "
      ]
     },
     "execution_count": 33,
     "metadata": {},
     "output_type": "execute_result"
    }
   ],
   "source": [
    "test_df.head()"
   ]
  },
  {
   "cell_type": "code",
   "execution_count": 30,
   "id": "monthly-potter",
   "metadata": {},
   "outputs": [
    {
     "name": "stdout",
     "output_type": "stream",
     "text": [
      "Websites total: 48371\n"
     ]
    }
   ],
   "source": [
    "# Change site1, ..., site10 columns type to integer and fill NA-values with zeros\n",
    "sites = ['site'+str(i) for i in range(1, 11)]\n",
    "train_df[sites] = train_df[sites].fillna(0).astype('int')\n",
    "test_df[sites] = test_df[sites].fillna(0).astype('int')\n",
    "\n",
    "# Load websites dictionary\n",
    "with open(r\"../src/site_dic.pkl\", \"rb\") as input_file:\n",
    "    site_dict = pickle.load(input_file)\n",
    "    \n",
    "# r before a string means \"raw\", i.e. take the string as it comes,\n",
    "# e.g. as a file path without interpreting special symbols like \\n\n",
    "\n",
    "print('Websites total:', len(site_dict))"
   ]
  },
  {
   "cell_type": "code",
   "execution_count": 32,
   "id": "accompanied-robert",
   "metadata": {},
   "outputs": [
    {
     "data": {
      "text/plain": [
       "[('www.abmecatronique.com', 25075),\n",
       " ('groups.live.com', 13997),\n",
       " ('majeureliguefootball.wordpress.com', 42436)]"
      ]
     },
     "execution_count": 32,
     "metadata": {},
     "output_type": "execute_result"
    }
   ],
   "source": [
    "# See what's in the dict\n",
    "list(site_dict.items())[:3]"
   ]
  },
  {
   "cell_type": "code",
   "execution_count": 103,
   "id": "hungry-cheat",
   "metadata": {},
   "outputs": [],
   "source": [
    "# The inverse dictionary:\n",
    "\n",
    "new_dict = {}\n",
    "for key in site_dict:\n",
    "    new_dict[site_dict[key]] = key"
   ]
  },
  {
   "cell_type": "code",
   "execution_count": 104,
   "id": "built-findings",
   "metadata": {},
   "outputs": [
    {
     "data": {
      "text/plain": [
       "[(25075, 'www.abmecatronique.com'),\n",
       " (13997, 'groups.live.com'),\n",
       " (42436, 'majeureliguefootball.wordpress.com')]"
      ]
     },
     "execution_count": 104,
     "metadata": {},
     "output_type": "execute_result"
    }
   ],
   "source": [
    "# See what's in the dict\n",
    "list(new_dict.items())[:3]"
   ]
  },
  {
   "cell_type": "markdown",
   "id": "under-incidence",
   "metadata": {},
   "source": [
    "## Task_1\n",
    "\n",
    "Какой процент сессий Элис из всех сессий?"
   ]
  },
  {
   "cell_type": "code",
   "execution_count": 36,
   "id": "medieval-tiffany",
   "metadata": {},
   "outputs": [
    {
     "data": {
      "text/plain": [
       "0    0.990941\n",
       "1    0.009059\n",
       "Name: target, dtype: float64"
      ]
     },
     "execution_count": 36,
     "metadata": {},
     "output_type": "execute_result"
    }
   ],
   "source": [
    "train_df.target.value_counts(normalize=True)"
   ]
  },
  {
   "cell_type": "markdown",
   "id": "fresh-camcorder",
   "metadata": {},
   "source": [
    "## Task_2\n",
    "\n",
    "В какой день недели Элис появилась в первый раз?"
   ]
  },
  {
   "cell_type": "code",
   "execution_count": 49,
   "id": "resident-wayne",
   "metadata": {
    "scrolled": true
   },
   "outputs": [
    {
     "data": {
      "text/plain": [
       "time1     Friday\n",
       "time2     Friday\n",
       "time3     Friday\n",
       "time4     Friday\n",
       "time5     Friday\n",
       "time6     Friday\n",
       "time7     Friday\n",
       "time8     Friday\n",
       "time9     Friday\n",
       "time10    Friday\n",
       "dtype: object"
      ]
     },
     "execution_count": 49,
     "metadata": {},
     "output_type": "execute_result"
    }
   ],
   "source": [
    "train_df.query(\"target == 1\")[times].min().dt.day_name()"
   ]
  },
  {
   "cell_type": "markdown",
   "id": "unexpected-spray",
   "metadata": {},
   "source": [
    "## Task_3\n",
    "\n",
    "Какие года присутствуют в обучающей выборке?"
   ]
  },
  {
   "cell_type": "code",
   "execution_count": 71,
   "id": "atlantic-holiday",
   "metadata": {},
   "outputs": [
    {
     "data": {
      "text/plain": [
       "array([2014, 2013])"
      ]
     },
     "execution_count": 71,
     "metadata": {},
     "output_type": "execute_result"
    }
   ],
   "source": [
    "train_df['time1'].dt.year.unique()"
   ]
  },
  {
   "cell_type": "markdown",
   "id": "automatic-coaching",
   "metadata": {},
   "source": [
    "## Task_4\n",
    "\n",
    "Какой сайт в обучающей выборке чаще всего посещает первым Элис и обычный пользователь?"
   ]
  },
  {
   "cell_type": "code",
   "execution_count": 94,
   "id": "institutional-treasure",
   "metadata": {
    "scrolled": true
   },
   "outputs": [
    {
     "data": {
      "text/html": [
       "<div>\n",
       "<style scoped>\n",
       "    .dataframe tbody tr th:only-of-type {\n",
       "        vertical-align: middle;\n",
       "    }\n",
       "\n",
       "    .dataframe tbody tr th {\n",
       "        vertical-align: top;\n",
       "    }\n",
       "\n",
       "    .dataframe thead th {\n",
       "        text-align: right;\n",
       "    }\n",
       "</style>\n",
       "<table border=\"1\" class=\"dataframe\">\n",
       "  <thead>\n",
       "    <tr style=\"text-align: right;\">\n",
       "      <th></th>\n",
       "      <th>site1</th>\n",
       "      <th>cnt</th>\n",
       "    </tr>\n",
       "  </thead>\n",
       "  <tbody>\n",
       "    <tr>\n",
       "      <th>33</th>\n",
       "      <td>80</td>\n",
       "      <td>142</td>\n",
       "    </tr>\n",
       "    <tr>\n",
       "      <th>31</th>\n",
       "      <td>77</td>\n",
       "      <td>141</td>\n",
       "    </tr>\n",
       "  </tbody>\n",
       "</table>\n",
       "</div>"
      ],
      "text/plain": [
       "    site1  cnt\n",
       "33     80  142\n",
       "31     77  141"
      ]
     },
     "execution_count": 94,
     "metadata": {},
     "output_type": "execute_result"
    }
   ],
   "source": [
    "train_df \\\n",
    "    .query(\"target == 1\") \\\n",
    "    .groupby(['site1'], as_index=False) \\\n",
    "    .agg({'time1': 'count'}) \\\n",
    "    .rename(columns={'time1': 'cnt'}) \\\n",
    "    .sort_values('cnt', ascending=False) \\\n",
    "    .head(2)"
   ]
  },
  {
   "cell_type": "code",
   "execution_count": 105,
   "id": "invalid-address",
   "metadata": {},
   "outputs": [
    {
     "data": {
      "text/plain": [
       "'s.youtube.com'"
      ]
     },
     "execution_count": 105,
     "metadata": {},
     "output_type": "execute_result"
    }
   ],
   "source": [
    "new_dict[80]"
   ]
  },
  {
   "cell_type": "code",
   "execution_count": 95,
   "id": "conservative-detector",
   "metadata": {
    "scrolled": true
   },
   "outputs": [
    {
     "data": {
      "text/html": [
       "<div>\n",
       "<style scoped>\n",
       "    .dataframe tbody tr th:only-of-type {\n",
       "        vertical-align: middle;\n",
       "    }\n",
       "\n",
       "    .dataframe tbody tr th {\n",
       "        vertical-align: top;\n",
       "    }\n",
       "\n",
       "    .dataframe thead th {\n",
       "        text-align: right;\n",
       "    }\n",
       "</style>\n",
       "<table border=\"1\" class=\"dataframe\">\n",
       "  <thead>\n",
       "    <tr style=\"text-align: right;\">\n",
       "      <th></th>\n",
       "      <th>site1</th>\n",
       "      <th>cnt</th>\n",
       "    </tr>\n",
       "  </thead>\n",
       "  <tbody>\n",
       "    <tr>\n",
       "      <th>20</th>\n",
       "      <td>21</td>\n",
       "      <td>13794</td>\n",
       "    </tr>\n",
       "    <tr>\n",
       "      <th>22</th>\n",
       "      <td>23</td>\n",
       "      <td>9193</td>\n",
       "    </tr>\n",
       "  </tbody>\n",
       "</table>\n",
       "</div>"
      ],
      "text/plain": [
       "    site1    cnt\n",
       "20     21  13794\n",
       "22     23   9193"
      ]
     },
     "execution_count": 95,
     "metadata": {},
     "output_type": "execute_result"
    }
   ],
   "source": [
    "train_df \\\n",
    "    .query(\"target == 0\") \\\n",
    "    .groupby(['site1'], as_index=False) \\\n",
    "    .agg({'time1': 'count'}) \\\n",
    "    .rename(columns={'time1': 'cnt'}) \\\n",
    "    .sort_values('cnt', ascending=False) \\\n",
    "    .head(2)"
   ]
  },
  {
   "cell_type": "code",
   "execution_count": 106,
   "id": "improved-clinic",
   "metadata": {},
   "outputs": [
    {
     "data": {
      "text/plain": [
       "'www.google.fr'"
      ]
     },
     "execution_count": 106,
     "metadata": {},
     "output_type": "execute_result"
    }
   ],
   "source": [
    "new_dict[21]"
   ]
  },
  {
   "cell_type": "markdown",
   "id": "meaningful-pierce",
   "metadata": {},
   "source": [
    "## Task_5\n",
    "\n",
    "Какой сайт в обучающей выборке является вторым по популярности в 2014 году и сколько раз его посещали в 2014 году?"
   ]
  },
  {
   "cell_type": "code",
   "execution_count": 109,
   "id": "accepting-texture",
   "metadata": {},
   "outputs": [
    {
     "data": {
      "text/plain": [
       "['site1',\n",
       " 'site2',\n",
       " 'site3',\n",
       " 'site4',\n",
       " 'site5',\n",
       " 'site6',\n",
       " 'site7',\n",
       " 'site8',\n",
       " 'site9',\n",
       " 'site10']"
      ]
     },
     "execution_count": 109,
     "metadata": {},
     "output_type": "execute_result"
    }
   ],
   "source": [
    "sites = ['site'+str(i) for i in range(1,11)]\n",
    "sites"
   ]
  },
  {
   "cell_type": "code",
   "execution_count": 116,
   "id": "bulgarian-rainbow",
   "metadata": {
    "scrolled": true
   },
   "outputs": [
    {
     "data": {
      "text/plain": [
       "21       86090\n",
       "0        81887\n",
       "782      77039\n",
       "23       56333\n",
       "780      40610\n",
       "         ...  \n",
       "1758         1\n",
       "5232         1\n",
       "16879        1\n",
       "18926        1\n",
       "10543        1\n",
       "Length: 33244, dtype: int64"
      ]
     },
     "execution_count": 116,
     "metadata": {},
     "output_type": "execute_result"
    }
   ],
   "source": [
    "train_df[(train_df['time1'] > \"2014-01-01\") & (train_df['time1'] < \"2014-12-31\")][sites] \\\n",
    "    .stack() \\\n",
    "    .value_counts()"
   ]
  },
  {
   "cell_type": "code",
   "execution_count": 117,
   "id": "enclosed-pipeline",
   "metadata": {},
   "outputs": [
    {
     "data": {
      "text/plain": [
       "'annotathon.org'"
      ]
     },
     "execution_count": 117,
     "metadata": {},
     "output_type": "execute_result"
    }
   ],
   "source": [
    "new_dict[782]"
   ]
  },
  {
   "cell_type": "markdown",
   "id": "static-binary",
   "metadata": {},
   "source": [
    "## Task_6\n",
    "\n",
    "Сколько всего сессий обучающей выборке содержат в себе меньше чем 10 сайтов?"
   ]
  },
  {
   "cell_type": "code",
   "execution_count": 135,
   "id": "municipal-lunch",
   "metadata": {},
   "outputs": [
    {
     "data": {
      "text/plain": [
       "(22509, 22)"
      ]
     },
     "execution_count": 135,
     "metadata": {},
     "output_type": "execute_result"
    }
   ],
   "source": [
    "train_df['cnt_sites'] = train_df[sites].where(lambda x: x != 0).count(axis='columns')\n",
    "train_df.query(\"cnt_sites < 10\").shape"
   ]
  },
  {
   "cell_type": "markdown",
   "id": "empirical-reference",
   "metadata": {},
   "source": [
    "## Task_7\n",
    "\n",
    "Выберите верные утверждения для обучающей выборки:\n",
    "\n",
    "* Элис наиболее активна в марте и неактивна летом\n",
    "* В среднем Элис проводит меньше времени на первой странице, чем другие пользователи\n",
    "* Лето является самым малоактивным временем года вообще\n",
    "* Медианная длительность посещения первой страницы в среднем больше, чем у Элис"
   ]
  },
  {
   "cell_type": "code",
   "execution_count": 141,
   "id": "strong-pressure",
   "metadata": {},
   "outputs": [
    {
     "data": {
      "text/plain": [
       "January      88\n",
       "April       305\n",
       "March       399\n",
       "November    446\n",
       "February    449\n",
       "December    610\n",
       "Name: time1, dtype: int64"
      ]
     },
     "execution_count": 141,
     "metadata": {},
     "output_type": "execute_result"
    }
   ],
   "source": [
    "train_df.query(\"target == 1\").time1.dt.month_name().value_counts().sort_values()"
   ]
  },
  {
   "cell_type": "code",
   "execution_count": 146,
   "id": "decent-photographer",
   "metadata": {},
   "outputs": [
    {
     "data": {
      "text/plain": [
       "(46357.33347863993, 52988.56342109086)"
      ]
     },
     "execution_count": 146,
     "metadata": {},
     "output_type": "execute_result"
    }
   ],
   "source": [
    "train_df['delta_1'] = (train_df['time1'] - train_df['time2']).dt.seconds\n",
    "\n",
    "train_df.query(\"target == 1\").delta_1.mean(), train_df.query(\"target == 0\").delta_1.mean()"
   ]
  },
  {
   "cell_type": "code",
   "execution_count": 147,
   "id": "increasing-third",
   "metadata": {},
   "outputs": [
    {
     "data": {
      "text/plain": [
       "May            87\n",
       "January     28058\n",
       "November    31118\n",
       "April       42358\n",
       "December    43557\n",
       "February    53108\n",
       "March       55275\n",
       "Name: time1, dtype: int64"
      ]
     },
     "execution_count": 147,
     "metadata": {},
     "output_type": "execute_result"
    }
   ],
   "source": [
    "train_df.time1.dt.month_name().value_counts().sort_values()"
   ]
  },
  {
   "cell_type": "code",
   "execution_count": 148,
   "id": "boxed-presence",
   "metadata": {},
   "outputs": [
    {
     "data": {
      "text/plain": [
       "(86375.0, 86378.0)"
      ]
     },
     "execution_count": 148,
     "metadata": {},
     "output_type": "execute_result"
    }
   ],
   "source": [
    "train_df.query(\"target == 1\").delta_1.median(), train_df.query(\"target == 0\").delta_1.median()"
   ]
  },
  {
   "cell_type": "markdown",
   "id": "sporting-survival",
   "metadata": {},
   "source": [
    "## Task_8\n",
    "\n",
    "Чему равное медианное значение количества уникальных сайтов в рамках одной сессии обучающей выборки?"
   ]
  },
  {
   "cell_type": "code",
   "execution_count": 149,
   "id": "attractive-effort",
   "metadata": {},
   "outputs": [],
   "source": [
    "train_df['cnt_uniq_sites'] = train_df[sites].where(lambda x: x != 0).nunique(axis='columns')"
   ]
  },
  {
   "cell_type": "code",
   "execution_count": 151,
   "id": "sharp-wheel",
   "metadata": {},
   "outputs": [
    {
     "data": {
      "text/plain": [
       "6.0"
      ]
     },
     "execution_count": 151,
     "metadata": {},
     "output_type": "execute_result"
    }
   ],
   "source": [
    "train_df['cnt_uniq_sites'].median()"
   ]
  },
  {
   "cell_type": "markdown",
   "id": "contemporary-python",
   "metadata": {},
   "source": [
    "## Task_9\n",
    "\n",
    "9) Чему равное медианное значение времени сессии в обучающей выборке (время посещения последнего сайта примем равным нулю)?"
   ]
  },
  {
   "cell_type": "code",
   "execution_count": 152,
   "id": "frequent-jones",
   "metadata": {
    "scrolled": true
   },
   "outputs": [
    {
     "data": {
      "text/html": [
       "<div>\n",
       "<style scoped>\n",
       "    .dataframe tbody tr th:only-of-type {\n",
       "        vertical-align: middle;\n",
       "    }\n",
       "\n",
       "    .dataframe tbody tr th {\n",
       "        vertical-align: top;\n",
       "    }\n",
       "\n",
       "    .dataframe thead th {\n",
       "        text-align: right;\n",
       "    }\n",
       "</style>\n",
       "<table border=\"1\" class=\"dataframe\">\n",
       "  <thead>\n",
       "    <tr style=\"text-align: right;\">\n",
       "      <th></th>\n",
       "      <th>site1</th>\n",
       "      <th>time1</th>\n",
       "      <th>site2</th>\n",
       "      <th>time2</th>\n",
       "      <th>site3</th>\n",
       "      <th>time3</th>\n",
       "      <th>site4</th>\n",
       "      <th>time4</th>\n",
       "      <th>site5</th>\n",
       "      <th>time5</th>\n",
       "      <th>...</th>\n",
       "      <th>site8</th>\n",
       "      <th>time8</th>\n",
       "      <th>site9</th>\n",
       "      <th>time9</th>\n",
       "      <th>site10</th>\n",
       "      <th>time10</th>\n",
       "      <th>target</th>\n",
       "      <th>cnt_sites</th>\n",
       "      <th>delta_1</th>\n",
       "      <th>cnt_uniq_sites</th>\n",
       "    </tr>\n",
       "    <tr>\n",
       "      <th>session_id</th>\n",
       "      <th></th>\n",
       "      <th></th>\n",
       "      <th></th>\n",
       "      <th></th>\n",
       "      <th></th>\n",
       "      <th></th>\n",
       "      <th></th>\n",
       "      <th></th>\n",
       "      <th></th>\n",
       "      <th></th>\n",
       "      <th></th>\n",
       "      <th></th>\n",
       "      <th></th>\n",
       "      <th></th>\n",
       "      <th></th>\n",
       "      <th></th>\n",
       "      <th></th>\n",
       "      <th></th>\n",
       "      <th></th>\n",
       "      <th></th>\n",
       "      <th></th>\n",
       "    </tr>\n",
       "  </thead>\n",
       "  <tbody>\n",
       "    <tr>\n",
       "      <th>1</th>\n",
       "      <td>718</td>\n",
       "      <td>2014-02-20 10:02:45</td>\n",
       "      <td>0</td>\n",
       "      <td>NaT</td>\n",
       "      <td>0</td>\n",
       "      <td>NaT</td>\n",
       "      <td>0</td>\n",
       "      <td>NaT</td>\n",
       "      <td>0</td>\n",
       "      <td>NaT</td>\n",
       "      <td>...</td>\n",
       "      <td>0</td>\n",
       "      <td>NaT</td>\n",
       "      <td>0</td>\n",
       "      <td>NaT</td>\n",
       "      <td>0</td>\n",
       "      <td>NaT</td>\n",
       "      <td>0</td>\n",
       "      <td>1</td>\n",
       "      <td>NaN</td>\n",
       "      <td>1</td>\n",
       "    </tr>\n",
       "    <tr>\n",
       "      <th>2</th>\n",
       "      <td>890</td>\n",
       "      <td>2014-02-22 11:19:50</td>\n",
       "      <td>941</td>\n",
       "      <td>2014-02-22 11:19:50</td>\n",
       "      <td>3847</td>\n",
       "      <td>2014-02-22 11:19:51</td>\n",
       "      <td>941</td>\n",
       "      <td>2014-02-22 11:19:51</td>\n",
       "      <td>942</td>\n",
       "      <td>2014-02-22 11:19:51</td>\n",
       "      <td>...</td>\n",
       "      <td>3846</td>\n",
       "      <td>2014-02-22 11:19:52</td>\n",
       "      <td>1516</td>\n",
       "      <td>2014-02-22 11:20:15</td>\n",
       "      <td>1518</td>\n",
       "      <td>2014-02-22 11:20:16</td>\n",
       "      <td>0</td>\n",
       "      <td>10</td>\n",
       "      <td>0.0</td>\n",
       "      <td>7</td>\n",
       "    </tr>\n",
       "    <tr>\n",
       "      <th>3</th>\n",
       "      <td>14769</td>\n",
       "      <td>2013-12-16 16:40:17</td>\n",
       "      <td>39</td>\n",
       "      <td>2013-12-16 16:40:18</td>\n",
       "      <td>14768</td>\n",
       "      <td>2013-12-16 16:40:19</td>\n",
       "      <td>14769</td>\n",
       "      <td>2013-12-16 16:40:19</td>\n",
       "      <td>37</td>\n",
       "      <td>2013-12-16 16:40:19</td>\n",
       "      <td>...</td>\n",
       "      <td>14768</td>\n",
       "      <td>2013-12-16 16:40:21</td>\n",
       "      <td>14768</td>\n",
       "      <td>2013-12-16 16:40:22</td>\n",
       "      <td>14768</td>\n",
       "      <td>2013-12-16 16:40:24</td>\n",
       "      <td>0</td>\n",
       "      <td>10</td>\n",
       "      <td>86399.0</td>\n",
       "      <td>4</td>\n",
       "    </tr>\n",
       "    <tr>\n",
       "      <th>4</th>\n",
       "      <td>782</td>\n",
       "      <td>2014-03-28 10:52:12</td>\n",
       "      <td>782</td>\n",
       "      <td>2014-03-28 10:52:42</td>\n",
       "      <td>782</td>\n",
       "      <td>2014-03-28 10:53:12</td>\n",
       "      <td>782</td>\n",
       "      <td>2014-03-28 10:53:42</td>\n",
       "      <td>782</td>\n",
       "      <td>2014-03-28 10:54:12</td>\n",
       "      <td>...</td>\n",
       "      <td>782</td>\n",
       "      <td>2014-03-28 10:55:42</td>\n",
       "      <td>782</td>\n",
       "      <td>2014-03-28 10:56:12</td>\n",
       "      <td>782</td>\n",
       "      <td>2014-03-28 10:56:42</td>\n",
       "      <td>0</td>\n",
       "      <td>10</td>\n",
       "      <td>86370.0</td>\n",
       "      <td>1</td>\n",
       "    </tr>\n",
       "    <tr>\n",
       "      <th>5</th>\n",
       "      <td>22</td>\n",
       "      <td>2014-02-28 10:53:05</td>\n",
       "      <td>177</td>\n",
       "      <td>2014-02-28 10:55:22</td>\n",
       "      <td>175</td>\n",
       "      <td>2014-02-28 10:55:22</td>\n",
       "      <td>178</td>\n",
       "      <td>2014-02-28 10:55:23</td>\n",
       "      <td>177</td>\n",
       "      <td>2014-02-28 10:55:23</td>\n",
       "      <td>...</td>\n",
       "      <td>177</td>\n",
       "      <td>2014-02-28 10:55:59</td>\n",
       "      <td>177</td>\n",
       "      <td>2014-02-28 10:57:06</td>\n",
       "      <td>178</td>\n",
       "      <td>2014-02-28 10:57:11</td>\n",
       "      <td>0</td>\n",
       "      <td>10</td>\n",
       "      <td>86263.0</td>\n",
       "      <td>4</td>\n",
       "    </tr>\n",
       "    <tr>\n",
       "      <th>...</th>\n",
       "      <td>...</td>\n",
       "      <td>...</td>\n",
       "      <td>...</td>\n",
       "      <td>...</td>\n",
       "      <td>...</td>\n",
       "      <td>...</td>\n",
       "      <td>...</td>\n",
       "      <td>...</td>\n",
       "      <td>...</td>\n",
       "      <td>...</td>\n",
       "      <td>...</td>\n",
       "      <td>...</td>\n",
       "      <td>...</td>\n",
       "      <td>...</td>\n",
       "      <td>...</td>\n",
       "      <td>...</td>\n",
       "      <td>...</td>\n",
       "      <td>...</td>\n",
       "      <td>...</td>\n",
       "      <td>...</td>\n",
       "      <td>...</td>\n",
       "    </tr>\n",
       "    <tr>\n",
       "      <th>253557</th>\n",
       "      <td>3474</td>\n",
       "      <td>2013-11-25 10:26:54</td>\n",
       "      <td>3474</td>\n",
       "      <td>2013-11-25 10:26:58</td>\n",
       "      <td>141</td>\n",
       "      <td>2013-11-25 10:27:03</td>\n",
       "      <td>2428</td>\n",
       "      <td>2013-11-25 10:27:04</td>\n",
       "      <td>106</td>\n",
       "      <td>2013-11-25 10:27:13</td>\n",
       "      <td>...</td>\n",
       "      <td>2428</td>\n",
       "      <td>2013-11-25 10:27:40</td>\n",
       "      <td>2428</td>\n",
       "      <td>2013-11-25 10:27:52</td>\n",
       "      <td>148</td>\n",
       "      <td>2013-11-25 10:27:53</td>\n",
       "      <td>0</td>\n",
       "      <td>10</td>\n",
       "      <td>86396.0</td>\n",
       "      <td>5</td>\n",
       "    </tr>\n",
       "    <tr>\n",
       "      <th>253558</th>\n",
       "      <td>12727</td>\n",
       "      <td>2013-12-03 16:01:15</td>\n",
       "      <td>12727</td>\n",
       "      <td>2013-12-03 16:01:16</td>\n",
       "      <td>2215</td>\n",
       "      <td>2013-12-03 16:01:16</td>\n",
       "      <td>38</td>\n",
       "      <td>2013-12-03 16:01:17</td>\n",
       "      <td>2215</td>\n",
       "      <td>2013-12-03 16:01:17</td>\n",
       "      <td>...</td>\n",
       "      <td>2215</td>\n",
       "      <td>2013-12-03 16:01:18</td>\n",
       "      <td>23</td>\n",
       "      <td>2013-12-03 16:01:18</td>\n",
       "      <td>21</td>\n",
       "      <td>2013-12-03 16:01:18</td>\n",
       "      <td>0</td>\n",
       "      <td>10</td>\n",
       "      <td>86399.0</td>\n",
       "      <td>6</td>\n",
       "    </tr>\n",
       "    <tr>\n",
       "      <th>253559</th>\n",
       "      <td>2661</td>\n",
       "      <td>2013-12-09 14:05:03</td>\n",
       "      <td>15004</td>\n",
       "      <td>2013-12-09 14:05:10</td>\n",
       "      <td>5562</td>\n",
       "      <td>2013-12-09 14:05:10</td>\n",
       "      <td>5562</td>\n",
       "      <td>2013-12-09 14:06:29</td>\n",
       "      <td>5562</td>\n",
       "      <td>2013-12-09 14:06:30</td>\n",
       "      <td>...</td>\n",
       "      <td>0</td>\n",
       "      <td>NaT</td>\n",
       "      <td>0</td>\n",
       "      <td>NaT</td>\n",
       "      <td>0</td>\n",
       "      <td>NaT</td>\n",
       "      <td>0</td>\n",
       "      <td>5</td>\n",
       "      <td>86393.0</td>\n",
       "      <td>3</td>\n",
       "    </tr>\n",
       "    <tr>\n",
       "      <th>253560</th>\n",
       "      <td>812</td>\n",
       "      <td>2013-12-19 15:20:22</td>\n",
       "      <td>676</td>\n",
       "      <td>2013-12-19 15:20:22</td>\n",
       "      <td>814</td>\n",
       "      <td>2013-12-19 15:20:22</td>\n",
       "      <td>22</td>\n",
       "      <td>2013-12-19 15:20:22</td>\n",
       "      <td>39</td>\n",
       "      <td>2013-12-19 15:20:22</td>\n",
       "      <td>...</td>\n",
       "      <td>570</td>\n",
       "      <td>2013-12-19 15:20:23</td>\n",
       "      <td>22</td>\n",
       "      <td>2013-12-19 15:20:24</td>\n",
       "      <td>570</td>\n",
       "      <td>2013-12-19 15:20:24</td>\n",
       "      <td>0</td>\n",
       "      <td>10</td>\n",
       "      <td>0.0</td>\n",
       "      <td>6</td>\n",
       "    </tr>\n",
       "    <tr>\n",
       "      <th>253561</th>\n",
       "      <td>34942</td>\n",
       "      <td>2014-04-25 09:56:52</td>\n",
       "      <td>1429</td>\n",
       "      <td>2014-04-25 09:56:53</td>\n",
       "      <td>34942</td>\n",
       "      <td>2014-04-25 09:56:53</td>\n",
       "      <td>29</td>\n",
       "      <td>2014-04-25 09:56:54</td>\n",
       "      <td>30</td>\n",
       "      <td>2014-04-25 09:56:54</td>\n",
       "      <td>...</td>\n",
       "      <td>30</td>\n",
       "      <td>2014-04-25 09:56:55</td>\n",
       "      <td>35</td>\n",
       "      <td>2014-04-25 09:56:55</td>\n",
       "      <td>33</td>\n",
       "      <td>2014-04-25 09:56:55</td>\n",
       "      <td>0</td>\n",
       "      <td>10</td>\n",
       "      <td>86399.0</td>\n",
       "      <td>7</td>\n",
       "    </tr>\n",
       "  </tbody>\n",
       "</table>\n",
       "<p>253561 rows × 24 columns</p>\n",
       "</div>"
      ],
      "text/plain": [
       "            site1               time1  site2               time2  site3  \\\n",
       "session_id                                                                \n",
       "1             718 2014-02-20 10:02:45      0                 NaT      0   \n",
       "2             890 2014-02-22 11:19:50    941 2014-02-22 11:19:50   3847   \n",
       "3           14769 2013-12-16 16:40:17     39 2013-12-16 16:40:18  14768   \n",
       "4             782 2014-03-28 10:52:12    782 2014-03-28 10:52:42    782   \n",
       "5              22 2014-02-28 10:53:05    177 2014-02-28 10:55:22    175   \n",
       "...           ...                 ...    ...                 ...    ...   \n",
       "253557       3474 2013-11-25 10:26:54   3474 2013-11-25 10:26:58    141   \n",
       "253558      12727 2013-12-03 16:01:15  12727 2013-12-03 16:01:16   2215   \n",
       "253559       2661 2013-12-09 14:05:03  15004 2013-12-09 14:05:10   5562   \n",
       "253560        812 2013-12-19 15:20:22    676 2013-12-19 15:20:22    814   \n",
       "253561      34942 2014-04-25 09:56:52   1429 2014-04-25 09:56:53  34942   \n",
       "\n",
       "                         time3  site4               time4  site5  \\\n",
       "session_id                                                         \n",
       "1                          NaT      0                 NaT      0   \n",
       "2          2014-02-22 11:19:51    941 2014-02-22 11:19:51    942   \n",
       "3          2013-12-16 16:40:19  14769 2013-12-16 16:40:19     37   \n",
       "4          2014-03-28 10:53:12    782 2014-03-28 10:53:42    782   \n",
       "5          2014-02-28 10:55:22    178 2014-02-28 10:55:23    177   \n",
       "...                        ...    ...                 ...    ...   \n",
       "253557     2013-11-25 10:27:03   2428 2013-11-25 10:27:04    106   \n",
       "253558     2013-12-03 16:01:16     38 2013-12-03 16:01:17   2215   \n",
       "253559     2013-12-09 14:05:10   5562 2013-12-09 14:06:29   5562   \n",
       "253560     2013-12-19 15:20:22     22 2013-12-19 15:20:22     39   \n",
       "253561     2014-04-25 09:56:53     29 2014-04-25 09:56:54     30   \n",
       "\n",
       "                         time5  ...  site8               time8  site9  \\\n",
       "session_id                      ...                                     \n",
       "1                          NaT  ...      0                 NaT      0   \n",
       "2          2014-02-22 11:19:51  ...   3846 2014-02-22 11:19:52   1516   \n",
       "3          2013-12-16 16:40:19  ...  14768 2013-12-16 16:40:21  14768   \n",
       "4          2014-03-28 10:54:12  ...    782 2014-03-28 10:55:42    782   \n",
       "5          2014-02-28 10:55:23  ...    177 2014-02-28 10:55:59    177   \n",
       "...                        ...  ...    ...                 ...    ...   \n",
       "253557     2013-11-25 10:27:13  ...   2428 2013-11-25 10:27:40   2428   \n",
       "253558     2013-12-03 16:01:17  ...   2215 2013-12-03 16:01:18     23   \n",
       "253559     2013-12-09 14:06:30  ...      0                 NaT      0   \n",
       "253560     2013-12-19 15:20:22  ...    570 2013-12-19 15:20:23     22   \n",
       "253561     2014-04-25 09:56:54  ...     30 2014-04-25 09:56:55     35   \n",
       "\n",
       "                         time9  site10              time10  target cnt_sites  \\\n",
       "session_id                                                                     \n",
       "1                          NaT       0                 NaT       0         1   \n",
       "2          2014-02-22 11:20:15    1518 2014-02-22 11:20:16       0        10   \n",
       "3          2013-12-16 16:40:22   14768 2013-12-16 16:40:24       0        10   \n",
       "4          2014-03-28 10:56:12     782 2014-03-28 10:56:42       0        10   \n",
       "5          2014-02-28 10:57:06     178 2014-02-28 10:57:11       0        10   \n",
       "...                        ...     ...                 ...     ...       ...   \n",
       "253557     2013-11-25 10:27:52     148 2013-11-25 10:27:53       0        10   \n",
       "253558     2013-12-03 16:01:18      21 2013-12-03 16:01:18       0        10   \n",
       "253559                     NaT       0                 NaT       0         5   \n",
       "253560     2013-12-19 15:20:24     570 2013-12-19 15:20:24       0        10   \n",
       "253561     2014-04-25 09:56:55      33 2014-04-25 09:56:55       0        10   \n",
       "\n",
       "            delta_1 cnt_uniq_sites  \n",
       "session_id                          \n",
       "1               NaN              1  \n",
       "2               0.0              7  \n",
       "3           86399.0              4  \n",
       "4           86370.0              1  \n",
       "5           86263.0              4  \n",
       "...             ...            ...  \n",
       "253557      86396.0              5  \n",
       "253558      86399.0              6  \n",
       "253559      86393.0              3  \n",
       "253560          0.0              6  \n",
       "253561      86399.0              7  \n",
       "\n",
       "[253561 rows x 24 columns]"
      ]
     },
     "execution_count": 152,
     "metadata": {},
     "output_type": "execute_result"
    }
   ],
   "source": [
    "train_df"
   ]
  },
  {
   "cell_type": "code",
   "execution_count": 162,
   "id": "republican-square",
   "metadata": {},
   "outputs": [],
   "source": [
    "def f_9(r):\n",
    "    if r['cnt_sites'] < 2:\n",
    "        return 0\n",
    "    else:\n",
    "        cnt_sites = r['cnt_sites']\n",
    "        return (r[f'time{cnt_sites}'] - r['time1']).seconds\n",
    "\n",
    "train_df['total_session_time'] = train_df.apply(lambda row: f_9(row), axis=1)"
   ]
  },
  {
   "cell_type": "code",
   "execution_count": 164,
   "id": "inappropriate-pixel",
   "metadata": {},
   "outputs": [
    {
     "data": {
      "text/plain": [
       "27.0"
      ]
     },
     "execution_count": 164,
     "metadata": {},
     "output_type": "execute_result"
    }
   ],
   "source": [
    "train_df['total_session_time'].median()"
   ]
  },
  {
   "cell_type": "markdown",
   "id": "relative-employment",
   "metadata": {},
   "source": [
    "## Task_10\n",
    "\n",
    "В каком месяце доля сессий Элис среди всех наибольшая?"
   ]
  },
  {
   "cell_type": "code",
   "execution_count": 217,
   "id": "gorgeous-setting",
   "metadata": {},
   "outputs": [
    {
     "data": {
      "text/plain": [
       "January      88\n",
       "April       305\n",
       "March       399\n",
       "November    446\n",
       "February    449\n",
       "December    610\n",
       "Name: time1, dtype: int64"
      ]
     },
     "execution_count": 217,
     "metadata": {},
     "output_type": "execute_result"
    }
   ],
   "source": [
    "train_df.query(\"target == 1\").time1.dt.month_name().value_counts().sort_values()"
   ]
  },
  {
   "cell_type": "code",
   "execution_count": 218,
   "id": "closing-morocco",
   "metadata": {},
   "outputs": [],
   "source": [
    "train_df['month_1'] = train_df['time1'].dt.month_name()"
   ]
  },
  {
   "cell_type": "code",
   "execution_count": 219,
   "id": "amazing-sense",
   "metadata": {},
   "outputs": [
    {
     "data": {
      "text/html": [
       "<div>\n",
       "<style scoped>\n",
       "    .dataframe tbody tr th:only-of-type {\n",
       "        vertical-align: middle;\n",
       "    }\n",
       "\n",
       "    .dataframe tbody tr th {\n",
       "        vertical-align: top;\n",
       "    }\n",
       "\n",
       "    .dataframe thead th {\n",
       "        text-align: right;\n",
       "    }\n",
       "</style>\n",
       "<table border=\"1\" class=\"dataframe\">\n",
       "  <thead>\n",
       "    <tr style=\"text-align: right;\">\n",
       "      <th></th>\n",
       "      <th></th>\n",
       "      <th>time1</th>\n",
       "    </tr>\n",
       "    <tr>\n",
       "      <th>month_1</th>\n",
       "      <th>target</th>\n",
       "      <th></th>\n",
       "    </tr>\n",
       "  </thead>\n",
       "  <tbody>\n",
       "    <tr>\n",
       "      <th rowspan=\"2\" valign=\"top\">April</th>\n",
       "      <th>0</th>\n",
       "      <td>42053</td>\n",
       "    </tr>\n",
       "    <tr>\n",
       "      <th>1</th>\n",
       "      <td>305</td>\n",
       "    </tr>\n",
       "    <tr>\n",
       "      <th rowspan=\"2\" valign=\"top\">December</th>\n",
       "      <th>0</th>\n",
       "      <td>42947</td>\n",
       "    </tr>\n",
       "    <tr>\n",
       "      <th>1</th>\n",
       "      <td>610</td>\n",
       "    </tr>\n",
       "    <tr>\n",
       "      <th rowspan=\"2\" valign=\"top\">February</th>\n",
       "      <th>0</th>\n",
       "      <td>52659</td>\n",
       "    </tr>\n",
       "    <tr>\n",
       "      <th>1</th>\n",
       "      <td>449</td>\n",
       "    </tr>\n",
       "    <tr>\n",
       "      <th rowspan=\"2\" valign=\"top\">January</th>\n",
       "      <th>0</th>\n",
       "      <td>27970</td>\n",
       "    </tr>\n",
       "    <tr>\n",
       "      <th>1</th>\n",
       "      <td>88</td>\n",
       "    </tr>\n",
       "    <tr>\n",
       "      <th rowspan=\"2\" valign=\"top\">March</th>\n",
       "      <th>0</th>\n",
       "      <td>54876</td>\n",
       "    </tr>\n",
       "    <tr>\n",
       "      <th>1</th>\n",
       "      <td>399</td>\n",
       "    </tr>\n",
       "    <tr>\n",
       "      <th>May</th>\n",
       "      <th>0</th>\n",
       "      <td>87</td>\n",
       "    </tr>\n",
       "    <tr>\n",
       "      <th rowspan=\"2\" valign=\"top\">November</th>\n",
       "      <th>0</th>\n",
       "      <td>30672</td>\n",
       "    </tr>\n",
       "    <tr>\n",
       "      <th>1</th>\n",
       "      <td>446</td>\n",
       "    </tr>\n",
       "  </tbody>\n",
       "</table>\n",
       "</div>"
      ],
      "text/plain": [
       "                 time1\n",
       "month_1  target       \n",
       "April    0       42053\n",
       "         1         305\n",
       "December 0       42947\n",
       "         1         610\n",
       "February 0       52659\n",
       "         1         449\n",
       "January  0       27970\n",
       "         1          88\n",
       "March    0       54876\n",
       "         1         399\n",
       "May      0          87\n",
       "November 0       30672\n",
       "         1         446"
      ]
     },
     "execution_count": 219,
     "metadata": {},
     "output_type": "execute_result"
    }
   ],
   "source": [
    "train_df \\\n",
    "    .groupby(['month_1', 'target']) \\\n",
    "    .agg({'time1': 'count'})"
   ]
  },
  {
   "cell_type": "code",
   "execution_count": 220,
   "id": "heard-marijuana",
   "metadata": {},
   "outputs": [
    {
     "data": {
      "text/html": [
       "<div>\n",
       "<style scoped>\n",
       "    .dataframe tbody tr th:only-of-type {\n",
       "        vertical-align: middle;\n",
       "    }\n",
       "\n",
       "    .dataframe tbody tr th {\n",
       "        vertical-align: top;\n",
       "    }\n",
       "\n",
       "    .dataframe thead tr th {\n",
       "        text-align: left;\n",
       "    }\n",
       "\n",
       "    .dataframe thead tr:last-of-type th {\n",
       "        text-align: right;\n",
       "    }\n",
       "</style>\n",
       "<table border=\"1\" class=\"dataframe\">\n",
       "  <thead>\n",
       "    <tr>\n",
       "      <th></th>\n",
       "      <th colspan=\"2\" halign=\"left\">time1</th>\n",
       "    </tr>\n",
       "    <tr>\n",
       "      <th>target</th>\n",
       "      <th>0</th>\n",
       "      <th>1</th>\n",
       "    </tr>\n",
       "    <tr>\n",
       "      <th>month_1</th>\n",
       "      <th></th>\n",
       "      <th></th>\n",
       "    </tr>\n",
       "  </thead>\n",
       "  <tbody>\n",
       "    <tr>\n",
       "      <th>April</th>\n",
       "      <td>42053.0</td>\n",
       "      <td>305.0</td>\n",
       "    </tr>\n",
       "    <tr>\n",
       "      <th>December</th>\n",
       "      <td>42947.0</td>\n",
       "      <td>610.0</td>\n",
       "    </tr>\n",
       "    <tr>\n",
       "      <th>February</th>\n",
       "      <td>52659.0</td>\n",
       "      <td>449.0</td>\n",
       "    </tr>\n",
       "    <tr>\n",
       "      <th>January</th>\n",
       "      <td>27970.0</td>\n",
       "      <td>88.0</td>\n",
       "    </tr>\n",
       "    <tr>\n",
       "      <th>March</th>\n",
       "      <td>54876.0</td>\n",
       "      <td>399.0</td>\n",
       "    </tr>\n",
       "    <tr>\n",
       "      <th>May</th>\n",
       "      <td>87.0</td>\n",
       "      <td>NaN</td>\n",
       "    </tr>\n",
       "    <tr>\n",
       "      <th>November</th>\n",
       "      <td>30672.0</td>\n",
       "      <td>446.0</td>\n",
       "    </tr>\n",
       "  </tbody>\n",
       "</table>\n",
       "</div>"
      ],
      "text/plain": [
       "            time1       \n",
       "target          0      1\n",
       "month_1                 \n",
       "April     42053.0  305.0\n",
       "December  42947.0  610.0\n",
       "February  52659.0  449.0\n",
       "January   27970.0   88.0\n",
       "March     54876.0  399.0\n",
       "May          87.0    NaN\n",
       "November  30672.0  446.0"
      ]
     },
     "execution_count": 220,
     "metadata": {},
     "output_type": "execute_result"
    }
   ],
   "source": [
    "df_10 = train_df \\\n",
    "    .groupby(['month_1', 'target']) \\\n",
    "    .agg({'time1': 'count'}) \\\n",
    "    .unstack(level=1)\n",
    "\n",
    "df_10"
   ]
  },
  {
   "cell_type": "code",
   "execution_count": 223,
   "id": "finished-causing",
   "metadata": {},
   "outputs": [
    {
     "data": {
      "text/html": [
       "<div>\n",
       "<style scoped>\n",
       "    .dataframe tbody tr th:only-of-type {\n",
       "        vertical-align: middle;\n",
       "    }\n",
       "\n",
       "    .dataframe tbody tr th {\n",
       "        vertical-align: top;\n",
       "    }\n",
       "\n",
       "    .dataframe thead th {\n",
       "        text-align: right;\n",
       "    }\n",
       "</style>\n",
       "<table border=\"1\" class=\"dataframe\">\n",
       "  <thead>\n",
       "    <tr style=\"text-align: right;\">\n",
       "      <th>target</th>\n",
       "      <th>month_1</th>\n",
       "      <th>0</th>\n",
       "      <th>1</th>\n",
       "    </tr>\n",
       "  </thead>\n",
       "  <tbody>\n",
       "    <tr>\n",
       "      <th>0</th>\n",
       "      <td>April</td>\n",
       "      <td>42053.0</td>\n",
       "      <td>305.0</td>\n",
       "    </tr>\n",
       "    <tr>\n",
       "      <th>1</th>\n",
       "      <td>December</td>\n",
       "      <td>42947.0</td>\n",
       "      <td>610.0</td>\n",
       "    </tr>\n",
       "    <tr>\n",
       "      <th>2</th>\n",
       "      <td>February</td>\n",
       "      <td>52659.0</td>\n",
       "      <td>449.0</td>\n",
       "    </tr>\n",
       "    <tr>\n",
       "      <th>3</th>\n",
       "      <td>January</td>\n",
       "      <td>27970.0</td>\n",
       "      <td>88.0</td>\n",
       "    </tr>\n",
       "    <tr>\n",
       "      <th>4</th>\n",
       "      <td>March</td>\n",
       "      <td>54876.0</td>\n",
       "      <td>399.0</td>\n",
       "    </tr>\n",
       "    <tr>\n",
       "      <th>5</th>\n",
       "      <td>May</td>\n",
       "      <td>87.0</td>\n",
       "      <td>NaN</td>\n",
       "    </tr>\n",
       "    <tr>\n",
       "      <th>6</th>\n",
       "      <td>November</td>\n",
       "      <td>30672.0</td>\n",
       "      <td>446.0</td>\n",
       "    </tr>\n",
       "  </tbody>\n",
       "</table>\n",
       "</div>"
      ],
      "text/plain": [
       "target   month_1        0      1\n",
       "0          April  42053.0  305.0\n",
       "1       December  42947.0  610.0\n",
       "2       February  52659.0  449.0\n",
       "3        January  27970.0   88.0\n",
       "4          March  54876.0  399.0\n",
       "5            May     87.0    NaN\n",
       "6       November  30672.0  446.0"
      ]
     },
     "execution_count": 223,
     "metadata": {},
     "output_type": "execute_result"
    }
   ],
   "source": [
    "new_10 = df_10.xs(axis=1, level=0, key='time1').reset_index()\n",
    "new_10"
   ]
  },
  {
   "cell_type": "code",
   "execution_count": 228,
   "id": "numerical-saying",
   "metadata": {},
   "outputs": [
    {
     "data": {
      "text/html": [
       "<div>\n",
       "<style scoped>\n",
       "    .dataframe tbody tr th:only-of-type {\n",
       "        vertical-align: middle;\n",
       "    }\n",
       "\n",
       "    .dataframe tbody tr th {\n",
       "        vertical-align: top;\n",
       "    }\n",
       "\n",
       "    .dataframe thead th {\n",
       "        text-align: right;\n",
       "    }\n",
       "</style>\n",
       "<table border=\"1\" class=\"dataframe\">\n",
       "  <thead>\n",
       "    <tr style=\"text-align: right;\">\n",
       "      <th>target</th>\n",
       "      <th>month_1</th>\n",
       "      <th>0</th>\n",
       "      <th>1</th>\n",
       "      <th>per</th>\n",
       "    </tr>\n",
       "  </thead>\n",
       "  <tbody>\n",
       "    <tr>\n",
       "      <th>0</th>\n",
       "      <td>April</td>\n",
       "      <td>42053.0</td>\n",
       "      <td>305.0</td>\n",
       "      <td>0.725275</td>\n",
       "    </tr>\n",
       "    <tr>\n",
       "      <th>1</th>\n",
       "      <td>December</td>\n",
       "      <td>42947.0</td>\n",
       "      <td>610.0</td>\n",
       "      <td>1.420355</td>\n",
       "    </tr>\n",
       "    <tr>\n",
       "      <th>2</th>\n",
       "      <td>February</td>\n",
       "      <td>52659.0</td>\n",
       "      <td>449.0</td>\n",
       "      <td>0.852656</td>\n",
       "    </tr>\n",
       "    <tr>\n",
       "      <th>3</th>\n",
       "      <td>January</td>\n",
       "      <td>27970.0</td>\n",
       "      <td>88.0</td>\n",
       "      <td>0.314623</td>\n",
       "    </tr>\n",
       "    <tr>\n",
       "      <th>4</th>\n",
       "      <td>March</td>\n",
       "      <td>54876.0</td>\n",
       "      <td>399.0</td>\n",
       "      <td>0.727094</td>\n",
       "    </tr>\n",
       "    <tr>\n",
       "      <th>5</th>\n",
       "      <td>May</td>\n",
       "      <td>87.0</td>\n",
       "      <td>NaN</td>\n",
       "      <td>NaN</td>\n",
       "    </tr>\n",
       "    <tr>\n",
       "      <th>6</th>\n",
       "      <td>November</td>\n",
       "      <td>30672.0</td>\n",
       "      <td>446.0</td>\n",
       "      <td>1.454095</td>\n",
       "    </tr>\n",
       "  </tbody>\n",
       "</table>\n",
       "</div>"
      ],
      "text/plain": [
       "target   month_1        0      1       per\n",
       "0          April  42053.0  305.0  0.725275\n",
       "1       December  42947.0  610.0  1.420355\n",
       "2       February  52659.0  449.0  0.852656\n",
       "3        January  27970.0   88.0  0.314623\n",
       "4          March  54876.0  399.0  0.727094\n",
       "5            May     87.0    NaN       NaN\n",
       "6       November  30672.0  446.0  1.454095"
      ]
     },
     "execution_count": 228,
     "metadata": {},
     "output_type": "execute_result"
    }
   ],
   "source": [
    "new_10['per'] = (new_10[1] / new_10[0]) * 100\n",
    "new_10"
   ]
  },
  {
   "cell_type": "code",
   "execution_count": null,
   "id": "suffering-north",
   "metadata": {},
   "outputs": [],
   "source": []
  }
 ],
 "metadata": {
  "kernelspec": {
   "display_name": "Python 3",
   "language": "python",
   "name": "python3"
  },
  "language_info": {
   "codemirror_mode": {
    "name": "ipython",
    "version": 3
   },
   "file_extension": ".py",
   "mimetype": "text/x-python",
   "name": "python",
   "nbconvert_exporter": "python",
   "pygments_lexer": "ipython3",
   "version": "3.8.10"
  }
 },
 "nbformat": 4,
 "nbformat_minor": 5
}
