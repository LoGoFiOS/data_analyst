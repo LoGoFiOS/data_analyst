{
 "cells": [
  {
   "cell_type": "markdown",
   "id": "contrary-resort",
   "metadata": {},
   "source": [
    "## Конспекты по курсу [\"Основы статистики\"](https://stepik.org/course/76)"
   ]
  },
  {
   "cell_type": "markdown",
   "id": "shaped-butler",
   "metadata": {},
   "source": [
    "### 1.2 Генеральная совокупность и выборка\n",
    "\n",
    "**Генеральная совокупность (ГС)** – множество всех объектов, относительно которых предполагается делать выводы при изучении конкретной задачи.\n",
    "\n",
    "**Выборка** – часть ГС. Выводы о выборке распростроняются на ГС.\n",
    "\n",
    "**Репрезентативность выборки** – выборка должна отражать свойства ГС.\n",
    "\n",
    "####  Способы задания выборок:\n",
    "\n",
    "1. **Стратифицированная выборка (stratified sample)** – ГС разбивается на на несколько страт (групп). Внутри группы элменты однородны по некоторому признаку. Из каждой страты случайным образом выбираются элементы. \n",
    "\n",
    "    Пример: разбивка людей по полу, разбивка по группам крови.\n",
    "    \n",
    "\n",
    "2. **Групповая выборка (claster  sample)** – ГС разбивается на несколько групп (кластеров). Внутри кластеры элементы разнородны, но есть схожесть между кластерами. Выбираются некоторые кластеры, откуда берутся элементы для выборки.\n",
    "\n",
    "    Пример: разбивка жителей города по районам, разбивка по школам и дальнейший выбор учеников среди школ, экзитполы на голосованиях.\n",
    "    \n",
    "\n",
    "3. **Случайная выборка (simple sample)**."
   ]
  },
  {
   "cell_type": "markdown",
   "id": "specified-sending",
   "metadata": {},
   "source": [
    "### 1.3 Типы переменных\n",
    "\n",
    "1. Количественные\n",
    "    * Непрерывные. Например, рост человека [160; 190]\n",
    "    * Дискретные. Например, количество детей в семье [0, 1, 2, 3]\n",
    "    \n",
    "    \n",
    "2. Качественные (номинативные)\n",
    "\n",
    "    Используются для разделения на группы. Например, всех М обозначим числом 1, а Ж - 2. Т.е. за цифрами не стоит никакого математического смысла, они используются как имена для групп.\n",
    "\n",
    "\n",
    "3. Ранговые\n",
    "\n",
    "    Используются для ранжирования переменных.  Единственная математическая операция – сравнение.\n",
    "    \n",
    "    \n",
    "**Обобщающий пример:** Измеряем рост испытуемых, получаем непрерывную переменную, считаем средний рост. Далее полученные данные по росту ранжируем. Затем разделяем на группы 1, 2 - рост ниже среднего и рост выше среднего.\n"
   ]
  },
  {
   "cell_type": "markdown",
   "id": "elegant-there",
   "metadata": {},
   "source": [
    "### 1.4 Меры центральной тенденции\n",
    "\n",
    "Позволяют понять насколько \"высоки\" значения на гистограмме распределения.\n",
    "\n",
    "1. Мода (mode) – наиболее часто встречающееся значение или значения.\n",
    "2. Медиана – делит упорядоченное множество пополам. Если элементов чётное количество, то берётся среднее значение двух серединных элементов.\n",
    "3. Среднее (mean) – сумма всех элементов делённая на количество элементов.\n",
    "\n",
    "Среднее чувствительна к выбросам, т.е. единичным значениями, сильно выбивающимся от всех остальных."
   ]
  },
  {
   "cell_type": "markdown",
   "id": "geological-release",
   "metadata": {},
   "source": [
    "### 1.5 Меры изменчивости\n",
    "\n",
    "1. **Размах (range)** – разность между min и max значениями.\n",
    "2. **Дисперсия (variance)** – средний квадрат отклонений индивидуальных значений признака от их средней величины.\n",
    "\n",
    "    **Для ГС**\n",
    "$$D = \\frac{\\sum_{i=1}^n(x_i - M_x)^2}{n}$$\n",
    "\n",
    "    **Для выборки**\n",
    "$$D = \\frac{\\sum_{i=1}^n(x_i - M_x)^2}{n-1}$$\n",
    "\n",
    "\n",
    "3. **Среднеквадратическое отклонение** – дисперсия, взятая по квадратичному корню.\n",
    "\n",
    "$$\\sigma = \\sqrt D$$\n",
    "\n",
    "Можно так же использовать термины **стандартное отклонение ГС** и **стандартное отклонение выборки**.\n",
    "\n",
    "**Свойства дисперсии и стандартного отклонения:**\n",
    "\n",
    "$$D_x+c = D_x$$\n",
    "$$sd_x+c = sd_x$$\n",
    "\n",
    "Т.е. прибавляя некоторое число к каждому из наблюдений, мы просто \"сдвигаем\" распределение влево или вправо. \n",
    "\n",
    "$$D_{x*c} = D_x*c^2$$\n",
    "$$sd_{x*c} = sd_x*c$$\n",
    "\n",
    "Т.е. умножая на некоторое число каждое из наблюдений, то распределение меняет свою форму. Логично, что если **sd** увеличилось, например, в 3 раза (за счёт умножения всех элементов на 3), то **D** увеличится в 9 раз. "
   ]
  },
  {
   "cell_type": "markdown",
   "id": "monthly-africa",
   "metadata": {},
   "source": [
    "### 1.6 Квартили распределения и график box-plot\n",
    "\n",
    "**Квартили** – это 3 точки, которые делят упорядоченное множество на 4 равные части. Соответсвенно, второй квартиль - медиана.\n",
    "\n",
    "Выделяется также **межквартильный размах** – это разность между 1-м и 3-м квартилями.\n",
    "\n",
    "Для box-plot длина \"усов\": **1.5 * межквартильный размах**. Всё, что лежит вне \"усов\" – выбросы."
   ]
  },
  {
   "cell_type": "markdown",
   "id": "flush-hypothesis",
   "metadata": {},
   "source": [
    "### Пример"
   ]
  },
  {
   "cell_type": "code",
   "execution_count": 1,
   "id": "handmade-battery",
   "metadata": {
    "scrolled": true
   },
   "outputs": [],
   "source": [
    "import numpy as np\n",
    "import scipy.stats as stats\n",
    "import seaborn as sns"
   ]
  },
  {
   "cell_type": "code",
   "execution_count": 2,
   "id": "warming-grave",
   "metadata": {},
   "outputs": [
    {
     "name": "stdout",
     "output_type": "stream",
     "text": [
      "Standart deviation: 3.16\n",
      "5.0 10.0 3.16\n"
     ]
    }
   ],
   "source": [
    "# Рассчитываем дисперсию и стандартное отклонение\n",
    "\n",
    "lst = np.array([1, 5, 2, 7, 1, 9, 3, 8, 5, 9])\n",
    "\n",
    "#ddof - степень свободы, т.е. -1 тоже, что и n-1\n",
    "print(f'Standart deviation: {np.std(lst, ddof=1):.2f}')\n",
    "print(np.mean(lst), np.var(lst, ddof=1), round(np.var(lst, ddof=1)**0.5, 2))"
   ]
  },
  {
   "cell_type": "code",
   "execution_count": 3,
   "id": "hawaiian-curve",
   "metadata": {},
   "outputs": [
    {
     "name": "stdout",
     "output_type": "stream",
     "text": [
      "2.0 1.41\n",
      "2.0 1.41\n",
      "\n",
      "\n",
      "2.0 1.41\n",
      "18.0 4.24\n"
     ]
    }
   ],
   "source": [
    "# Проверяем свойства\n",
    "\n",
    "lst_1 = np.array([1, 2, 2, 3 ,4, 4, 5])\n",
    "lst_2 = lst_1 + 100\n",
    "\n",
    "print(np.var(lst_1, ddof=1), round(np.std(lst_1, ddof=1), 2))\n",
    "print(np.var(lst_2, ddof=1), round(np.std(lst_2, ddof=1), 2))\n",
    "print('\\n')\n",
    "\n",
    "lst_2 = lst_1 * 3\n",
    "print(np.var(lst_1, ddof=1), round(np.std(lst_1, ddof=1), 2))\n",
    "print(np.var(lst_2, ddof=1), round(np.std(lst_2, ddof=1), 2))"
   ]
  },
  {
   "cell_type": "code",
   "execution_count": 4,
   "id": "vietnamese-print",
   "metadata": {
    "scrolled": true
   },
   "outputs": [
    {
     "data": {
      "image/png": "[encoded data removed]",
      "text/plain": [
       "<Figure size 432x288 with 1 Axes>"
      ]
     },
     "metadata": {
      "needs_background": "light"
     },
     "output_type": "display_data"
    }
   ],
   "source": [
    "# вывод boxplot\n",
    "\n",
    "hights = [157,159,161,164,165,166,167,167,167,168,169,169,170,170,170,171,171,172,172,172,172,173,173,175,175,177,178,178,179,185]\n",
    "ax = sns.boxplot(y=hights)\n",
    "ax = sns.swarmplot(y=hights, color=\"red\")"
   ]
  },
  {
   "cell_type": "markdown",
   "id": "former-messenger",
   "metadata": {},
   "source": [
    "### 1.7 Нормальное распределение\n",
    "\n",
    "**Нормальное распределение** – унимодальное, симметричное распределение. Отклонений значений от среднего подчиняются определённому вероятностному закону.\n",
    "\n",
    "**Z-стандартизация** – такое преобразование данных, которое переводит любую шкалу, где среднее значение == 0, а стандартное отклонение == 1.\n",
    "\n",
    "Показывет насколько далеко данное измерение от среднего значения, выраженное в стандартном отклонении (см. пример ниже).\n",
    "\n",
    "$$Z_i = \\frac{x_i - \\mu}{\\sigma}$$\n",
    "\n",
    "\n",
    "Хорошо рассказано [здесь](https://www.khanacademy.org/math/ap-statistics/density-curves-normal-distribution-ap/measuring-position/v/z-score-introduction).\n",
    "\n",
    "**Правило 3-х сигм**\n",
    "\n",
    "* 68,26% всех значений находятся на расстоянии +- 1 сигмы.\n",
    "* 95,44% всех значений находятся на расстоянии +- 2 сигмы.\n",
    "* 99,72% всех значений находятся на расстоянии +- 3 сигмы."
   ]
  },
  {
   "cell_type": "markdown",
   "id": "royal-registrar",
   "metadata": {},
   "source": [
    "### Пример"
   ]
  },
  {
   "cell_type": "code",
   "execution_count": 5,
   "id": "incorporated-validation",
   "metadata": {},
   "outputs": [
    {
     "name": "stdout",
     "output_type": "stream",
     "text": [
      "3.0\n",
      "2.86\n",
      "1.69\n",
      "[-0.59 -0.59  0.   -0.59  1.18 -1.18  1.77]\n"
     ]
    }
   ],
   "source": [
    "data_z = np.array([2, 2, 3, 2, 5, 1, 6])\n",
    "\n",
    "print(np.mean(data_z))\n",
    "print(round(np.var(data_z), 2))\n",
    "print(round(np.std(data_z), 2))\n",
    "print(stats.zscore(data_z).round(2))\n",
    "\n",
    "# ТО последнее значение больше среднего в 1.77 стандартных отклонений"
   ]
  },
  {
   "cell_type": "code",
   "execution_count": 6,
   "id": "southwest-raleigh",
   "metadata": {
    "scrolled": true
   },
   "outputs": [
    {
     "name": "stdout",
     "output_type": "stream",
     "text": [
      "Только у 4.78% людей, IQ>125\n"
     ]
    }
   ],
   "source": [
    "''' Считается, что значение IQ (уровень интеллекта) у людей имеет нормальное распределение\n",
    "со средним значением равным 100 и стандартным отклонением равным 15 (M = 100, sd = 15).\n",
    "Какой приблизительно процент людей обладает IQ > 125?\n",
    "'''\n",
    "\n",
    "from scipy import stats\n",
    "mean = 100\n",
    "std = 15\n",
    "IQ=125\n",
    "# sf - Survival function = (1 - cdf) - Cumulative distribution function\n",
    "print(f\"Только у {(stats.norm(mean, std).sf(IQ))*100:.2f}% людей, IQ>{IQ}\")"
   ]
  },
  {
   "cell_type": "code",
   "execution_count": 12,
   "id": "labeled-advantage",
   "metadata": {},
   "outputs": [
    {
     "name": "stdout",
     "output_type": "stream",
     "text": [
      "76.54\n"
     ]
    }
   ],
   "source": [
    "''' Считается, что значение IQ (уровень интеллекта) у людей имеет нормальное распределение\n",
    "со средним значением равным 100 и стандартным отклонением равным 15 (M = 100, sd = 15).\n",
    "Какой приблизительно процент людей обладает IQ  на промежутке от 70 до 112 \n",
    "'''\n",
    "\n",
    "from scipy import stats\n",
    "mean = 100\n",
    "std = 15\n",
    "\n",
    "\n",
    "left = stats.norm(mean, std).sf(70)*100\n",
    "right = stats.norm(mean, std).sf(112)*100\n",
    "answer = left - right\n",
    "print(round(answer, 2))\n",
    "\n",
    "# Можно решить задачку и тут \n",
    "# https://gallery.shinyapps.io/dist_calc/\n",
    "# Получаем Z для искомых IQ (0.8, -2)\n",
    "# Выставляем эти значения для middle area\n",
    "\n",
    "# Можно решать через табл.:\n",
    "# https://web.archive.org/web/20180729102938/http://users.stat.ufl.edu/~athienit/Tables/Ztable.pdf"
   ]
  },
  {
   "cell_type": "markdown",
   "id": "hybrid-poland",
   "metadata": {},
   "source": [
    "### 1.8 Центральная предельная теорема\n",
    "\n",
    "**Нормальное распределение** – унимодальное, симметричное распределение. Отклонений значений от среднего подчиняются определённому вероятностному закону."
   ]
  }
 ],
 "metadata": {
  "kernelspec": {
   "display_name": "Python 3 (ipykernel)",
   "language": "python",
   "name": "python3"
  },
  "language_info": {
   "codemirror_mode": {
    "name": "ipython",
    "version": 3
   },
   "file_extension": ".py",
   "mimetype": "text/x-python",
   "name": "python",
   "nbconvert_exporter": "python",
   "pygments_lexer": "ipython3",
   "version": "3.10.4"
  },
  "vscode": {
   "interpreter": {
    "hash": "3ad933181bd8a04b432d3370b9dc3b0662ad032c4dfaa4e4f1596c548f763858"
   }
  }
 },
 "nbformat": 4,
 "nbformat_minor": 5
}
